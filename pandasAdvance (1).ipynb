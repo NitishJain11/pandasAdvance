{
 "cells": [
  {
   "cell_type": "code",
   "execution_count": 3,
   "id": "9bad896b-5b59-487f-bf32-054cfbac8726",
   "metadata": {},
   "outputs": [
    {
     "name": "stdout",
     "output_type": "stream",
     "text": [
      "course_name    Machine Learning\n",
      "duration                      3\n",
      "Name: 1, dtype: object\n"
     ]
    }
   ],
   "source": [
    "#Q1. Write a code to print the data present in the second row of the dataframe, df.\n",
    "\n",
    "import pandas as pd\n",
    "\n",
    "course_name = [\"Data Science\", \"Machine Learning\", \"Big Data\", \"Data Engineer\"]\n",
    "\n",
    "duration = [2,3,6,4]\n",
    "data = {\"course_name\" : course_name, 'duration' : duration}\n",
    "\n",
    "df = pd.DataFrame(data)\n",
    "\n",
    "print(df.iloc[1])\n",
    "\n"
   ]
  },
  {
   "cell_type": "code",
   "execution_count": 2,
   "id": "d52c1e4b-7d5a-4e68-8f07-c4d28db44dda",
   "metadata": {},
   "outputs": [
    {
     "name": "stdout",
     "output_type": "stream",
     "text": [
      "Machine Learning\n",
      "course_name    Machine Learning\n",
      "duration                      3\n",
      "Name: 1, dtype: object\n"
     ]
    }
   ],
   "source": [
    "#Q2. What is the difference between the functions loc and iloc in pandas.DataFrame?\n",
    "\n",
    "import pandas as pd\n",
    "\n",
    "course_name = [\"Data Science\", \"Machine Learning\", \"Big Data\", \"Data Engineer\"]\n",
    "\n",
    "duration = [2,3,6,4]\n",
    "data = {\"course_name\" : course_name, 'duration' : duration}\n",
    "\n",
    "df = pd.DataFrame(data)\n",
    "\n",
    "\n",
    "#Answer->\n",
    "\n",
    "# loc and iloc are two indexing methods in pandas for accessing data from a DataFrame.\n",
    "\n",
    "# loc->\n",
    "\n",
    "# loc is used for label-based indexing, which means that you can access rows and columns of a DataFrame by their labels.\n",
    " \n",
    "print(df.loc[1,'course_name'])\n",
    "      \n",
    "# iloc->\n",
    "      \n",
    "# iloc is used for integer-based indexing, which means that you can access rows and columns of a DataFrame by their integer position. \n",
    "      \n",
    "print(df.iloc[1])\n",
    "\n"
   ]
  },
  {
   "cell_type": "code",
   "execution_count": 5,
   "id": "6e616ff4-6d85-4e02-a14c-e468b618fdbc",
   "metadata": {},
   "outputs": [
    {
     "name": "stdout",
     "output_type": "stream",
     "text": [
      "course_name    Big Data\n",
      "duration              6\n",
      "Name: 2, dtype: object\n",
      "########\n",
      "course_name    Big Data\n",
      "duration              6\n",
      "Name: 2, dtype: object\n"
     ]
    }
   ],
   "source": [
    "# Q3. Reindex the given dataframe using a variable, reindex = [3,0,1,2] and store it in the variable, new_df\n",
    "# then find the output for both new_df.loc[2] and new_df.iloc[2].\n",
    "\n",
    "import pandas as pd\n",
    "\n",
    "course_name = [\"Data Science\", \"Machine Learning\", \"Big Data\", \"Data Engineer\"]\n",
    "duration = [2,3,6,4]\n",
    "data = {\"course_name\" : course_name, 'duration' : duration}\n",
    "df = pd.DataFrame(data)\n",
    "\n",
    "reindex = [3,0,1,2]\n",
    "new_df = df.reindex(reindex)\n",
    "\n",
    "# print(new_df)\n",
    "print(df.iloc[2])\n",
    "print(\"########\")\n",
    "print(df.loc[2])\n",
    "\n",
    "# Yes, there is a difference in the output of new_df.loc[2] and new_df.iloc[2].\n",
    "\n",
    "# new_df.loc[2] returns the row with label 2 which is the row containing \"Big Data\" course and duration of 6, whereas new_df.iloc[2] \n",
    "# returns the row with integer position 2 which is the row containing \"Machine Learning\" course and duration of 3.\n",
    "\n",
    "# The difference between loc and iloc is that loc uses labels to access rows and columns, while iloc uses integer positions. \n",
    "# In the case of the new_df DataFrame, after reindexing, the label of the row with integer position 2 is \"Big Data\",\n",
    "# whereas the row with label 2 is \"Machine Learning\". So, depending on which method you use, you get a different row of data.\n",
    "# Therefore, it is important to understand the difference between loc and iloc and use them appropriately depending on your data and requirements."
   ]
  },
  {
   "cell_type": "code",
   "execution_count": 8,
   "id": "ea7d9e5f-6492-42bd-9881-bd9299c11a46",
   "metadata": {},
   "outputs": [
    {
     "name": "stdout",
     "output_type": "stream",
     "text": [
      "   column_1  column_2  column_3  column_4  column_5  column_6\n",
      "1  0.555363  0.515773  0.642282  0.054355  0.531187  0.618591\n",
      "2  0.960741  0.494256  0.253761  0.137438  0.711271  0.913019\n",
      "3  0.527854  0.815532  0.198452  0.237583  0.729395  0.293595\n",
      "4  0.584709  0.719364  0.297235  0.667733  0.790855  0.815093\n",
      "5  0.720607  0.586650  0.122004  0.889688  0.650161  0.948912\n",
      "6  0.859661  0.610364  0.071669  0.524258  0.930377  0.069821\n",
      "(i) mean of each and every column present in the dataframe.\n",
      "column_1    0.701489\n",
      "column_2    0.623656\n",
      "column_3    0.264234\n",
      "column_4    0.418509\n",
      "column_5    0.723874\n",
      "column_6    0.609839\n",
      "dtype: float64\n",
      "(ii) standard deviation of column, ‘column_2’\n",
      "0.12321174104631974\n"
     ]
    }
   ],
   "source": [
    "# Q4. Write a code to find the following statistical measurements for the above dataframe df1:\n",
    "\n",
    "# (i) mean of each and every column present in the dataframe.\n",
    "\n",
    "# (ii) standard deviation of column, ‘column_2’\n",
    "import pandas as pd\n",
    "\n",
    "import numpy as np\n",
    "\n",
    "columns = ['column_1', 'column_2', 'column_3', 'column_4', 'column_5', 'column_6']\n",
    "\n",
    "indices = [1,2,3,4,5,6]\n",
    "\n",
    "df1 = pd.DataFrame(np.random.rand(6,6), columns = columns, index = indices)\n",
    "\n",
    "print(df1)\n",
    "# (i) mean of each and every column present in the dataframe.\n",
    "print(\"(i) mean of each and every column present in the dataframe.\")\n",
    "print(df1.mean())\n",
    "print(\"(ii) standard deviation of column, ‘column_2’\")\n",
    "print(df1['column_2'].std())"
   ]
  },
  {
   "cell_type": "code",
   "execution_count": 14,
   "id": "3c5f91da-0774-47b2-9ed2-7a92a452994b",
   "metadata": {},
   "outputs": [
    {
     "name": "stdout",
     "output_type": "stream",
     "text": [
      "   column_1  column_2  column_3  column_4  column_5  column_6\n",
      "1  0.188446  0.224029  0.785679  0.218664  0.202430  0.202165\n",
      "2  0.146569    string  0.354382  0.263785  0.925693  0.597682\n",
      "3  0.568837    0.1841  0.587754  0.180117  0.011852  0.739019\n",
      "4  0.506776  0.694542  0.481994  0.507207  0.387295  0.433821\n",
      "5  0.892958  0.722625  0.141779  0.972756  0.195131  0.927926\n",
      "6  0.663046  0.467113  0.454627  0.497849  0.443735  0.266341\n",
      " mean of column, column_2 is 0.4944386420870961\n"
     ]
    }
   ],
   "source": [
    "# Q5. Replace the data present in the second row of column, ‘column_2’ by a string variable then find the\n",
    "# mean of column, column_2.\n",
    "\n",
    "# If you are getting errors in executing it then explain why.\n",
    "import pandas as pd\n",
    "\n",
    "import numpy as np\n",
    "\n",
    "columns = ['column_1', 'column_2', 'column_3', 'column_4', 'column_5', 'column_6']\n",
    "\n",
    "indices = [1,2,3,4,5,6]\n",
    "\n",
    "df1 = pd.DataFrame(np.random.rand(6,6), columns = columns, index = indices)\n",
    "\n",
    "df1.loc[2,'column_2']='string'\n",
    "print(df1)\n",
    "print(f\" mean of column, column_2 is {df1['column_1'].mean()}\")\n",
    "\n"
   ]
  },
  {
   "cell_type": "code",
   "execution_count": 15,
   "id": "c29cbcc9-fb64-4a37-97e3-8125cda9635e",
   "metadata": {},
   "outputs": [],
   "source": [
    "# Q6. What do you understand about the windows function in pandas and list the types of windows\n",
    "# functions?\n",
    "\n",
    "# Answer->\n",
    "\n",
    "# In Pandas, a window function, also known as a rolling or moving function, allows you to perform calculations on a sliding window of data.\n",
    "# The window function is applied to a specified number of consecutive rows or columns, and it returns a new series or DataFrame.\n",
    "\n",
    "# There are several types of window functions in Pandas:\n",
    "\n",
    "# Rolling: A rolling window function calculates the value of a statistic over a specified window of rows.\n",
    "# It moves the window by one or more rows at a time and recalculates the statistic.\n",
    "\n",
    "# Expanding: An expanding window function calculates the value of a statistic over all the rows up to the current row. \n",
    "# The window size increases as more rows are included in the calculation.\n",
    "\n",
    "# Exponentially Weighted Moving Average (EWMA): An EWMA window function calculates a weighted average of the current and past values. \n",
    "# The weight of each value decreases exponentially as it gets farther from the current value.\n",
    "\n",
    "# Rolling Apply: A rolling apply function applies a custom function to a rolling window of data.\n",
    "# The custom function can be any function that takes a pandas Series as input and returns a single value.\n",
    "\n",
    "# Rolling Correlation: A rolling correlation function calculates the correlation between two series over a rolling window of data.\n",
    "\n",
    "# Rolling Covariance: A rolling covariance function calculates the covariance between two series over a rolling window of data.\n",
    "\n",
    "# Rolling Max: A rolling max function calculates the maximum value over a rolling window of data.\n",
    "\n",
    "# Rolling Min: A rolling min function calculates the minimum value over a rolling window of data.\n",
    "\n",
    "# Rolling Sum: A rolling sum function calculates the sum of values over a rolling window of data.\n",
    "\n",
    "# Rolling Median: A rolling median function calculates the median value over a rolling window of data.\n",
    "\n",
    "# Rolling Standard Deviation: A rolling standard deviation function calculates the standard deviation over a rolling window of data.\n",
    "\n",
    "# Rolling Variance: A rolling variance function calculates the variance over a rolling window of data.\n"
   ]
  },
  {
   "cell_type": "code",
   "execution_count": 27,
   "id": "e6ad3c0e-97a7-4238-a9fa-c516fb63b0d6",
   "metadata": {},
   "outputs": [
    {
     "name": "stdout",
     "output_type": "stream",
     "text": [
      "Current month and year: March 2023\n",
      "Current month and year: March 2023\n"
     ]
    },
    {
     "name": "stderr",
     "output_type": "stream",
     "text": [
      "/tmp/ipykernel_77/527437728.py:8: FutureWarning: The pandas.datetime class is deprecated and will be removed from pandas in a future version. Import from datetime module instead.\n",
      "  now = pd.datetime.now()\n"
     ]
    }
   ],
   "source": [
    "# Q7. Write a code to print only the current month and year at the time of answering this question.\n",
    "\n",
    "# [Hint: Use pandas.datetime function]\n",
    "\n",
    "\n",
    "import pandas as pd\n",
    "\n",
    "now = pd.datetime.now()\n",
    "print(\"Current month and year:\", now.strftime(\"%B %Y\"))\n",
    "\n",
    "# but we can do it for same result \n",
    "\n",
    "# result = pd.Timestamp.now()\n",
    "# print(\"Current month and year:\", now.strftime(\"%B %Y\"))\n"
   ]
  },
  {
   "cell_type": "code",
   "execution_count": 38,
   "id": "3809a594-e770-4ea5-bb30-aaafb5d6e3c6",
   "metadata": {},
   "outputs": [
    {
     "name": "stdin",
     "output_type": "stream",
     "text": [
      "Enter the first date (YYYY-MM-DD):  2023 03 02\n",
      "Enter the second date (YYYY-MM-DD):  2023 04 02\n"
     ]
    },
    {
     "name": "stdout",
     "output_type": "stream",
     "text": [
      "The difference between 2023 03 02 and 2023 04 02 is:\n",
      "31 days, 0 hours, and 0 minutes.\n"
     ]
    }
   ],
   "source": [
    "# Q8. Write a Python program that takes in two dates as input (in the format YYYY-MM-DD) and\n",
    "# calculates the difference between them in days, hours, and minutes using Pandas time delta. The\n",
    "# program should prompt the user to enter the dates and display the result.\n",
    "\n",
    "import pandas as pd\n",
    "\n",
    "date1_str = input('Enter the first date (YYYY-MM-DD): ')\n",
    "date2_str = input('Enter the second date (YYYY-MM-DD): ')\n",
    "\n",
    "date1 = pd.to_datetime(date1_str)\n",
    "date2 = pd.to_datetime(date2_str)\n",
    "\n",
    "diff = date2 - date1\n",
    "\n",
    "days = diff.days\n",
    "hours = diff.seconds // 3600\n",
    "minutes = (diff.seconds // 60) % 60\n",
    "\n",
    "\n",
    "td = pd.Timedelta(days=days, hours=hours, minutes=minutes)\n",
    "\n",
    "\n",
    "print(f'The difference between {date1_str} and {date2_str} is:')\n",
    "print(f'{td.days} days, {td.seconds // 3600} hours, and {(td.seconds // 60) % 60} minutes.')\n",
    "\n",
    "\n"
   ]
  },
  {
   "cell_type": "code",
   "execution_count": 3,
   "id": "f975a58e-0bb3-4456-a176-6a3525e51f87",
   "metadata": {},
   "outputs": [
    {
     "name": "stdout",
     "output_type": "stream",
     "text": [
      "       Name Branch Grade\n",
      "0    vivake    EEE     B\n",
      "1  Divyanka     ME     A\n",
      "2      Amay    ECE     B\n",
      "3    Sunjay    CSE     A\n",
      "4     Manik    EEE     C\n",
      "5     Samir    ECE     C\n",
      "6     vikas     ME     A\n"
     ]
    }
   ],
   "source": [
    "import pandas as pd \n",
    "df = pd.read_csv('student_record.csv')\n",
    "print(df)"
   ]
  },
  {
   "cell_type": "code",
   "execution_count": 1,
   "id": "cf6e0ef9-e833-4bd5-8130-fce96b656cb9",
   "metadata": {},
   "outputs": [
    {
     "name": "stdin",
     "output_type": "stream",
     "text": [
      "Enter the file path:  student_record.csv\n",
      "Enter the column name to convert:  Grade\n",
      "Enter the category order (comma-separated):  A,B,C\n"
     ]
    },
    {
     "name": "stdout",
     "output_type": "stream",
     "text": [
      "       Name Branch Grade\n",
      "1  Divyanka     ME     A\n",
      "3    Sunjay    CSE     A\n",
      "6     vikas     ME     A\n",
      "0    vivake    EEE     B\n",
      "2      Amay    ECE     B\n",
      "4     Manik    EEE     C\n",
      "5     Samir    ECE     C\n"
     ]
    }
   ],
   "source": [
    "# Q9->write a python program that reads a CSV file containing categorical data and convert a specified column to a categorocal data type .\n",
    "# the program should prompt the user to enter the file path , column name and category order and than display the sorted data\n",
    "\n",
    "\n",
    "import pandas as pd\n",
    "\n",
    "file_path = input(\"Enter the file path: \")\n",
    "column_name = input(\"Enter the column name to convert: \")\n",
    "category_order = input(\"Enter the category order (comma-separated): \").split(\",\")\n",
    "df = pd.read_csv(file_path)\n",
    "df[column_name] = pd.Categorical(df[column_name], categories=category_order)\n",
    "df_sorted = df.sort_values(column_name)\n",
    "\n",
    "print(df_sorted)\n"
   ]
  },
  {
   "cell_type": "code",
   "execution_count": 6,
   "id": "94cbbf34-f8a8-43d7-b28e-909498e8a765",
   "metadata": {},
   "outputs": [
    {
     "name": "stdin",
     "output_type": "stream",
     "text": [
      "Enter the file path:  salesDetail.csv\n"
     ]
    },
    {
     "data": {
      "text/plain": [
       "<AxesSubplot: title={'center': 'Sales by Product Category'}, xlabel='product'>"
      ]
     },
     "execution_count": 6,
     "metadata": {},
     "output_type": "execute_result"
    },
    {
     "data": {
      "image/png": "[encoded data removed]",
      "text/plain": [
       "<Figure size 640x480 with 1 Axes>"
      ]
     },
     "metadata": {},
     "output_type": "display_data"
    }
   ],
   "source": [
    "# Q10-> write the python code that reads a csv file containing  sales data for different products and visualizes the data using\n",
    "#  a stacked bar chart to show the sales of each product category over time . The program should prompt the user to enter \n",
    "#  the file path and display the chart.\n",
    "# Answer->\n",
    "\n",
    "import pandas as pd\n",
    "file_path = input(\"Enter the file path: \")\n",
    "sales_data = pd.read_csv(file_path)\n",
    "sales_data_grouped = sales_data.groupby(['product', 'year'])['sales'].sum().unstack()\n",
    "sales_data_grouped.plot(kind='bar', stacked=True, title='Sales by Product Category')\n",
    "\n"
   ]
  },
  {
   "cell_type": "code",
   "execution_count": 3,
   "id": "e60574a7-e292-4ee7-8ae5-aa7600cf5dc8",
   "metadata": {},
   "outputs": [
    {
     "name": "stdout",
     "output_type": "stream",
     "text": [
      "             product     sales  year         cost\n",
      "0  Electronic_device      5000  2019       204803\n",
      "1     dairy_products    100000  2019     40204823\n",
      "2   medical_products      5600  2019    402048299\n",
      "3        frozen_food  10000000  2019  40254823000\n",
      "4    genral_products     10000  2019    748374957\n"
     ]
    }
   ],
   "source": [
    "import pandas as pd \n",
    "df = pd.read_csv('salesDetail.csv')\n",
    "print(df)"
   ]
  },
  {
   "cell_type": "markdown",
   "id": "f6e64e05-be4c-4c81-8bda-e891befd4849",
   "metadata": {},
   "source": [
    "\n",
    "\n",
    "Q10->write the python code that reads a csv file containing  sales data for different products and visualizes the data using a stacked bar chart to show the sales of each product category over time . The program should prompt the user to enter the file path and display the chart."
   ]
  },
  {
   "cell_type": "code",
   "execution_count": 22,
   "id": "a258390a-7052-42cb-8b75-053f5f63fb43",
   "metadata": {},
   "outputs": [
    {
     "name": "stdout",
     "output_type": "stream",
     "text": [
      "   studentID  TestScore\n",
      "0          1         85\n",
      "1          2         90\n",
      "2          3         80\n",
      "3          4         75\n",
      "4          5         85\n",
      "5          6         82\n",
      "6          7         78\n",
      "7          8         85\n",
      "8          9         90\n",
      "9         10         85\n"
     ]
    }
   ],
   "source": [
    "import csv\n",
    "import pandas as pd\n",
    "l1=[1,2,3,4,5,6,7,8,9,10]\n",
    "l2=[85,90,80,75,85,82,78,85,90,85]\n",
    "dic ={'studentID':l1 ,'TestScore':l2}\n",
    "with open('studentData.csv','w',newline='') as sd:\n",
    "    f= csv.writer(sd)\n",
    "    f.writerow(['studentID','TestScore'])\n",
    "    for i in range(len(l1)):\n",
    "        f.writerow([l1[i],l2[i]])\n",
    "        \n",
    "sf = pd.read_csv('studentData.csv')\n",
    "print(sf)"
   ]
  },
  {
   "cell_type": "markdown",
   "id": "fdee5778-ec8a-4154-b78f-c420b9e7d073",
   "metadata": {},
   "source": [
    "Q11->you are given a csv file containing student data that includes the student id and their test score, write a python program that reads csv file , calculate the mean median , and mode of the test scores , and displays the results in a table .\n",
    "\n",
    "prompt the user  to enter the file of the path  of csv file containing the student data\n",
    "read the csv file into a pandas Dataframes\n",
    "calculate the mean median mode of the test scores using pandas tools \n",
    "display the mean median and mode in  table\n",
    "\n",
    "where mean  = 79.6\n",
    "median  = 82\n",
    "mode = 85,90\n",
    "\n",
    "assume that the csv file student _data.csv contains the following data \n",
    "student id 1,2,3,4,5,6,7,8,9,10\n",
    "TestScore 85,90,80,75,85,82,78,85,90,85"
   ]
  },
  {
   "cell_type": "code",
   "execution_count": 39,
   "id": "663cae21-dcb6-4fcc-9b39-cf75cc8483d6",
   "metadata": {},
   "outputs": [
    {
     "name": "stdin",
     "output_type": "stream",
     "text": [
      "Enter the file path:  studentData.csv\n"
     ]
    },
    {
     "name": "stdout",
     "output_type": "stream",
     "text": [
      "           0\n",
      "Mean    83.5\n",
      "Median  85.0\n",
      "Mode    85.0\n"
     ]
    }
   ],
   "source": [
    "import pandas as pd\n",
    "file_path = input(\"Enter the file path: \")\n",
    "data = pd.read_csv(file_path)\n",
    "mean = data['TestScore'].mean()\n",
    "median = data['TestScore'].median()\n",
    "mode = data['TestScore'].mode().iloc[0]\n",
    "df = pd.DataFrame( {'Mean':[mean],'Median': [median], 'Mode': [mode]}).T\n",
    "\n",
    "print(df)\n",
    "\n",
    "\n"
   ]
  },
  {
   "cell_type": "code",
   "execution_count": 35,
   "id": "90bd88cf-eb1a-49b1-a126-31565f6bad23",
   "metadata": {},
   "outputs": [
    {
     "name": "stdout",
     "output_type": "stream",
     "text": [
      "83.5\n"
     ]
    }
   ],
   "source": [
    "\n",
    "# NOTE\n",
    "#  IN THIS QUESTUON YOU HAVE GIVEN THAT ANSWERS\n",
    "#     MEAN  = 79.6\n",
    "#     MEDIAN  = 82 \n",
    "#     THESE ARE WORONG\n",
    "m =(85+90+80+75+85+82+78+85+90+85)/10\n",
    "print(m)\n"
   ]
  },
  {
   "cell_type": "code",
   "execution_count": null,
   "id": "2df653fd-bf35-4615-bafc-1a7206fa9125",
   "metadata": {},
   "outputs": [],
   "source": []
  }
 ],
 "metadata": {
  "kernelspec": {
   "display_name": "Python 3 (ipykernel)",
   "language": "python",
   "name": "python3"
  },
  "language_info": {
   "codemirror_mode": {
    "name": "ipython",
    "version": 3
   },
   "file_extension": ".py",
   "mimetype": "text/x-python",
   "name": "python",
   "nbconvert_exporter": "python",
   "pygments_lexer": "ipython3",
   "version": "3.10.8"
  }
 },
 "nbformat": 4,
 "nbformat_minor": 5
}
